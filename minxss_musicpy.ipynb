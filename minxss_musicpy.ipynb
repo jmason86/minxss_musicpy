{
 "cells": [
  {
   "cell_type": "markdown",
   "metadata": {},
   "source": [
    "# Load packages"
   ]
  },
  {
   "cell_type": "code",
   "execution_count": 1,
   "metadata": {
    "collapsed": false
   },
   "outputs": [],
   "source": [
    "from scipy.io.idl import readsav\n",
    "import midi\n",
    "import numpy as np\n",
    "%matplotlib inline\n",
    "import matplotlib.pyplot as plt"
   ]
  },
  {
   "cell_type": "markdown",
   "metadata": {},
   "source": [
    "# Load MinXSS Data"
   ]
  },
  {
   "cell_type": "code",
   "execution_count": 64,
   "metadata": {
    "collapsed": false
   },
   "outputs": [],
   "source": [
    "data = readsav('/Users/jmason86/Dropbox/minxss_dropbox/data/fm1/level1/minxss1_l1_mission_length.sav')\n",
    "minxsslevel1 = data.minxsslevel1_x123.copy()"
   ]
  },
  {
   "cell_type": "markdown",
   "metadata": {},
   "source": [
    "# Isolate a single flare in MinXSS data"
   ]
  },
  {
   "cell_type": "code",
   "execution_count": 65,
   "metadata": {
    "collapsed": true
   },
   "outputs": [],
   "source": [
    "flareData = minxsslevel1#[1000:2000] # TODO: Find the indices for an actual flare"
   ]
  },
  {
   "cell_type": "code",
   "execution_count": 303,
   "metadata": {
    "collapsed": true
   },
   "outputs": [],
   "source": [
    "# Store needed variables\n",
    "energy = flareData[0]['energy']\n",
    "irradiance = flareData['irradiance']\n",
    "timeJd = []\n",
    "timeHuman = []\n",
    "for timeIndex in range(len(irradiance)):\n",
    "    timeJd.append(flareData[timeIndex]['time']['jd'][0])\n",
    "    timeHuman.append(flareData[timeIndex]['time']['human'][0])"
   ]
  },
  {
   "cell_type": "markdown",
   "metadata": {},
   "source": [
    "# Convert MinXSS data to MIDI"
   ]
  },
  {
   "cell_type": "code",
   "execution_count": 236,
   "metadata": {
    "collapsed": false
   },
   "outputs": [],
   "source": [
    "# Custom rebinning of energy\n",
    "energy5NoteBins = np.linspace(0, 4, num=40)\n",
    "energy7NoteBins = np.linspace(0, 4, num=57)"
   ]
  },
  {
   "cell_type": "markdown",
   "metadata": {},
   "source": [
    "## Irradiance to velocity"
   ]
  },
  {
   "cell_type": "code",
   "execution_count": 299,
   "metadata": {
    "collapsed": false
   },
   "outputs": [
    {
     "name": "stderr",
     "output_type": "stream",
     "text": [
      "/Users/jmason86/anaconda/envs/py27/lib/python2.7/site-packages/ipykernel/__main__.py:3: RuntimeWarning: divide by zero encountered in log\n",
      "  app.launch_new_instance()\n"
     ]
    }
   ],
   "source": [
    "# Irradiance scaling\n",
    "irradiance = np.vstack(irradiance)\n",
    "irradianceScaled = np.log(irradiance)\n",
    "irradianceScaled = np.clip(irradianceScaled, 0, 100.0)\n",
    "#irradianceScaled = np.power(irradiance, 0.02)\n",
    "irradianceScaledMax = np.nanmax(max(irradianceScaled, key=tuple))\n",
    "velocity = irradianceScaled * (100.0 / irradianceScaledMax)\n",
    "\n",
    "# Bin into 7 note key\n",
    "velocity7NoteBins = np.empty((len(velocity), len(energy7NoteBins)))\n",
    "for timeIndex in range(len(timeJd)):\n",
    "     velocity7NoteBins[timeIndex, :] = np.interp(energy7NoteBins, energy, velocity[timeIndex])\n",
    "\n",
    "# Apply ceiling to velocity and convert to integer array\n",
    "velocity7NoteBins = np.ceil(velocity7NoteBins)\n",
    "velocity7NoteBins = velocity7NoteBins.astype(int)\n",
    "\n",
    "# Bin into 5 note key\n",
    "#energy5NoteBins = energy[::26]\n",
    "velocity5NoteBins = np.empty((len(velocity), len(energy5NoteBins)))\n",
    "for timeIndex in range(len(timeJd)):\n",
    "    velocity5NoteBins[timeIndex, :] = np.interp(energy5NoteBins, energy, velocity[timeIndex])\n",
    "\n",
    "# Convert NAN to 0 and apply ceiling to velocity and convert to integer array\n",
    "#velocity5NoteBins = np.clip(velocity5NoteBins, 0, 100)\n",
    "velocity5NoteBins = np.nan_to_num(velocity5NoteBins)\n",
    "velocity5NoteBins = np.ceil(velocity5NoteBins)\n",
    "velocity5NoteBins = velocity5NoteBins.astype(int)"
   ]
  },
  {
   "cell_type": "markdown",
   "metadata": {},
   "source": [
    "## Energy to pitch"
   ]
  },
  {
   "cell_type": "code",
   "execution_count": 209,
   "metadata": {
    "collapsed": true
   },
   "outputs": [],
   "source": [
    "# Allow for 8 octaves\n",
    "# 7 note key (e.g., major or minor)\n",
    "# 8 * 7 = 56 total allowed notes\n",
    "# 1024 bins / 56 notes = 18 bins / note\n",
    "        \n",
    "notesDMajor = [midi.D_0, midi.E_0, midi.Fs_0, midi.G_0, midi.A_0, midi.B_0, midi.Cs_0, \\\n",
    "               midi.D_1, midi.E_1, midi.Fs_1, midi.G_1, midi.A_1, midi.B_1, midi.Cs_1, \\\n",
    "               midi.D_2, midi.E_2, midi.Fs_2, midi.G_2, midi.A_2, midi.B_2, midi.Cs_2, \\\n",
    "               midi.D_3, midi.E_3, midi.Fs_3, midi.G_3, midi.A_3, midi.B_3, midi.Cs_3, \\\n",
    "               midi.D_4, midi.E_4, midi.Fs_4, midi.G_4, midi.A_4, midi.B_4, midi.Cs_4, \\\n",
    "               midi.D_5, midi.E_5, midi.Fs_5, midi.G_5, midi.A_5, midi.B_5, midi.Cs_5, \\\n",
    "               midi.D_6, midi.E_6, midi.Fs_6, midi.G_6, midi.A_6, midi.B_6, midi.Cs_6, \\\n",
    "               midi.D_7, midi.E_7, midi.Fs_7, midi.G_7, midi.A_7, midi.B_7, midi.Cs_7, midi.D_8]\n",
    "\n",
    "notesFMinor = [midi.F_0, midi.G_0, midi.Ab_0, midi.Bb_0, midi.C_0, midi.Db_0, midi.Eb_0, \\\n",
    "               midi.F_1, midi.G_1, midi.Ab_1, midi.Bb_1, midi.C_1, midi.Db_1, midi.Eb_1, \\\n",
    "               midi.F_2, midi.G_2, midi.Ab_2, midi.Bb_2, midi.C_2, midi.Db_2, midi.Eb_2, \\\n",
    "               midi.F_3, midi.G_3, midi.Ab_3, midi.Bb_3, midi.C_3, midi.Db_3, midi.Eb_3, \\\n",
    "               midi.F_4, midi.G_4, midi.Ab_4, midi.Bb_4, midi.C_4, midi.Db_4, midi.Eb_4, \\\n",
    "               midi.F_5, midi.G_5, midi.Ab_5, midi.Bb_5, midi.C_5, midi.Db_5, midi.Eb_5, \\\n",
    "               midi.F_6, midi.G_6, midi.Ab_6, midi.Bb_6, midi.C_6, midi.Db_6, midi.Eb_6, \\\n",
    "               midi.F_7, midi.G_7, midi.Ab_7, midi.Bb_7, midi.C_7, midi.Db_7, midi.Eb_7, midi.F_8]\n",
    "\n",
    "# 5 note key (pentatonic)\n",
    "# 8 * 5 = 40 total allowed notes\n",
    "# 1024 bins / 40 notes = 26 bins / note\n",
    "\n",
    "notesCMinorPentatonic = [midi.C_0, midi.Eb_0, midi.F_0, midi.G_0, midi.Bb_0, \\\n",
    "                         midi.C_1, midi.Eb_1, midi.F_1, midi.G_1, midi.Bb_1, \\\n",
    "                         midi.C_2, midi.Eb_2, midi.F_2, midi.G_2, midi.Bb_2, \\\n",
    "                         midi.C_3, midi.Eb_3, midi.F_3, midi.G_3, midi.Bb_3, \\\n",
    "                         midi.C_4, midi.Eb_4, midi.F_4, midi.G_4, midi.Bb_4, \\\n",
    "                         midi.C_5, midi.Eb_5, midi.F_5, midi.G_5, midi.Bb_5, \\\n",
    "                         midi.C_6, midi.Eb_6, midi.F_6, midi.G_6, midi.Bb_6, \\\n",
    "                         midi.C_7, midi.Eb_7, midi.F_7, midi.G_7, midi.Bb_7, midi.C_8]"
   ]
  },
  {
   "cell_type": "markdown",
   "metadata": {},
   "source": [
    "## Longitude to duration"
   ]
  },
  {
   "cell_type": "code",
   "execution_count": 318,
   "metadata": {
    "collapsed": true
   },
   "outputs": [],
   "source": [
    "# Get good variety of note durations\n",
    "scaledLongitude = (minxsslevel1.longitude + 180) / 360. * 100.\n",
    "noteDuration = (scaledLongitude * 1) + 50 # [ticks] 0.0005 seconds per tick at 120 bpm\n",
    "\n",
    "# Apply ceiling to velocity and convert to integer array\n",
    "noteDuration = np.ceil(noteDuration)\n",
    "noteDuration = noteDuration.astype(int)"
   ]
  },
  {
   "cell_type": "markdown",
   "metadata": {},
   "source": [
    "## Loop through energies to add tracks and time to add notes"
   ]
  },
  {
   "cell_type": "code",
   "execution_count": 319,
   "metadata": {
    "collapsed": false
   },
   "outputs": [],
   "source": [
    "# Instantiate a MIDI Pattern (contains a list of tracks)\n",
    "pattern = midi.Pattern()\n",
    "for energyIndex in range(len(energy5NoteBins)):\n",
    "    # Instantiate a MIDI Track (contains a list of MIDI events)\n",
    "    track = midi.Track()\n",
    "    # Append the track to the pattern\n",
    "    pattern.append(track)\n",
    "    \n",
    "    for timeIndex in range(len(timeJd)):\n",
    "        # Instantiate a MIDI note on event, append it to the track\n",
    "        note = notesCMinorPentatonic[energyIndex]\n",
    "        velocity = velocity5NoteBins[timeIndex, energyIndex]\n",
    "        on = midi.NoteOnEvent(tick=0, \\\n",
    "                              velocity = velocity, \\\n",
    "                              pitch = note)\n",
    "        track.append(on)\n",
    "        \n",
    "        # Instantiate a MIDI note off event, append it to the track\n",
    "        off = midi.NoteOffEvent(tick=noteDuration[timeIndex], pitch=midi.G_3)\n",
    "        track.append(off)\n",
    "    \n",
    "    # Add the end of track event, append it to the track\n",
    "    eot = midi.EndOfTrackEvent(tick=1)\n",
    "    track.append(eot)"
   ]
  },
  {
   "cell_type": "code",
   "execution_count": 322,
   "metadata": {
    "collapsed": false
   },
   "outputs": [],
   "source": [
    "# Save the pattern to disk\n",
    "midi.write_midifile(\"minxss_music.mid\", pattern)"
   ]
  },
  {
   "cell_type": "code",
   "execution_count": null,
   "metadata": {
    "collapsed": true
   },
   "outputs": [],
   "source": []
  },
  {
   "cell_type": "markdown",
   "metadata": {},
   "source": [
    "# Make some plots to sanity check the scaling and such"
   ]
  },
  {
   "cell_type": "code",
   "execution_count": 244,
   "metadata": {
    "collapsed": false
   },
   "outputs": [
    {
     "data": {
      "image/png": "[encoded data removed]",
      "text/plain": [
       "<matplotlib.figure.Figure at 0x129290b10>"
      ]
     },
     "metadata": {},
     "output_type": "display_data"
    }
   ],
   "source": [
    "for i in range(5):\n",
    "    plt.plot(energy5NoteBins, velocity5NoteBins[100+i, :], drawstyle = 'steps-mid')"
   ]
  },
  {
   "cell_type": "code",
   "execution_count": 249,
   "metadata": {
    "collapsed": false
   },
   "outputs": [
    {
     "data": {
      "text/plain": [
       "<matplotlib.text.Text at 0x14546bfd0>"
      ]
     },
     "execution_count": 249,
     "metadata": {},
     "output_type": "execute_result"
    },
    {
     "data": {
      "image/png": "[encoded data removed]",
      "text/plain": [
       "<matplotlib.figure.Figure at 0x1454b1f90>"
      ]
     },
     "metadata": {},
     "output_type": "display_data"
    }
   ],
   "source": [
    "plt.plot(minxsslevel1[1000]['energy'], minxsslevel1[1000]['irradiance'], drawstyle = 'steps-mid')\n",
    "plt.xlim([0.8, 4.0])\n",
    "plt.xlabel('Energy [keV]')\n",
    "plt.ylim([1e1, 1e9])\n",
    "plt.yscale('log')\n",
    "plt.ylabel('Irradiance [photons / sec / cm$^2$ / keV]')"
   ]
  },
  {
   "cell_type": "code",
   "execution_count": 288,
   "metadata": {
    "collapsed": false
   },
   "outputs": [
    {
     "data": {
      "text/plain": [
       "<matplotlib.legend.Legend at 0x129f18f10>"
      ]
     },
     "execution_count": 288,
     "metadata": {},
     "output_type": "execute_result"
    },
    {
     "data": {
      "image/png": "[encoded data removed]",
      "text/plain": [
       "<matplotlib.figure.Figure at 0x129c15450>"
      ]
     },
     "metadata": {},
     "output_type": "display_data"
    }
   ],
   "source": [
    "normalized = minxsslevel1[1000]['irradiance'] / np.nanmax(minxsslevel1[1000]['irradiance']) * 100.0\n",
    "plt.plot(minxsslevel1[1000]['energy'], normalized, drawstyle = 'steps-mid', label='Normalized')\n",
    "plt.xlim([0.8, 4.0])\n",
    "plt.xlabel('Energy [keV]')\n",
    "plt.yscale('log')\n",
    "plt.ylabel('Irradiance [photons / sec / cm$^2$ / keV]')\n",
    "plt.plot(energy5NoteBins, velocity5NoteBins[100, :], drawstyle = 'steps-mid', label='Rebinned')\n",
    "plt.legend(loc='best')"
   ]
  }
 ],
 "metadata": {
  "anaconda-cloud": {},
  "kernelspec": {
   "display_name": "Python [conda env:py27]",
   "language": "python",
   "name": "conda-env-py27-py"
  },
  "language_info": {
   "codemirror_mode": {
    "name": "ipython",
    "version": 2
   },
   "file_extension": ".py",
   "mimetype": "text/x-python",
   "name": "python",
   "nbconvert_exporter": "python",
   "pygments_lexer": "ipython2",
   "version": "2.7.13"
  },
  "varInspector": {
   "cols": {
    "lenName": 16,
    "lenType": 16,
    "lenVar": 40
   },
   "kernels_config": {
    "python": {
     "delete_cmd_postfix": "",
     "delete_cmd_prefix": "del ",
     "library": "var_list.py",
     "varRefreshCmd": "print(var_dic_list())"
    },
    "r": {
     "delete_cmd_postfix": ") ",
     "delete_cmd_prefix": "rm(",
     "library": "var_list.r",
     "varRefreshCmd": "cat(var_dic_list()) "
    }
   },
   "types_to_exclude": [
    "module",
    "function",
    "builtin_function_or_method",
    "instance",
    "_Feature"
   ],
   "window_display": false
  }
 },
 "nbformat": 4,
 "nbformat_minor": 1
}
